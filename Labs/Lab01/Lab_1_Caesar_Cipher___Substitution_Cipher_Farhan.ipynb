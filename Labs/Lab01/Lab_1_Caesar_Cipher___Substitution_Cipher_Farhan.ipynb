{
  "nbformat": 4,
  "nbformat_minor": 0,
  "metadata": {
    "colab": {
      "provenance": []
    },
    "kernelspec": {
      "name": "python3",
      "display_name": "Python 3"
    },
    "language_info": {
      "name": "python"
    }
  },
  "cells": [
    {
      "cell_type": "markdown",
      "source": [
        "# Caesar Cipher"
      ],
      "metadata": {
        "id": "1wOocgMlVig-"
      }
    },
    {
      "cell_type": "code",
      "source": [
        "def decrypt_shift_cipher(ciphertext, key):\n",
        "  #to do\n",
        "  plaintext=\"\"\n",
        "  for i in ciphertext:\n",
        "    if (ord(i)==32):\n",
        "      plaintext += \" \"\n",
        "    elif i.islower():\n",
        "      plaintext += chr((ord(i)-97-key)%26+97)\n",
        "    elif i.isupper():\n",
        "      plaintext += chr((ord(i)-65-key)%26+65)\n",
        "  return plaintext\n"
      ],
      "metadata": {
        "id": "DeTQVJUm2hm0"
      },
      "execution_count": 1,
      "outputs": []
    },
    {
      "cell_type": "code",
      "execution_count": 2,
      "metadata": {
        "id": "mCabVhcQz0bV"
      },
      "outputs": [],
      "source": [
        "def encrypt_shift_cipher(plaintext, key):\n",
        "  #to do\n",
        "  ciphertext=\"\"\n",
        "  for i in plaintext:\n",
        "\n",
        "    if (ord(i)==32):\n",
        "      ciphertext += \" \"\n",
        "    elif i.islower():\n",
        "        ciphertext += chr((ord(i)-97+key)%26+97)\n",
        "    elif i.isupper():\n",
        "        ciphertext  += chr((ord(i)-65+key)%26+65)\n",
        "\n",
        "\n",
        "  return ciphertext"
      ]
    },
    {
      "cell_type": "code",
      "source": [
        "#Decrypt the following text and find out the value of the key using the decrypt_shift_cipher() method.\n",
        "ciphertext = \"KYV HLZTB SIFNE WFO\"\n",
        "for i in range(26):\n",
        "  print(decrypt_shift_cipher(ciphertext, i))"
      ],
      "metadata": {
        "id": "dBQ7hHE_20uH",
        "collapsed": true,
        "colab": {
          "base_uri": "https://localhost:8080/"
        },
        "outputId": "2a5e91bc-9143-4ac3-c93e-611fdafdcc80"
      },
      "execution_count": 3,
      "outputs": [
        {
          "output_type": "stream",
          "name": "stdout",
          "text": [
            "KYV HLZTB SIFNE WFO\n",
            "JXU GKYSA RHEMD VEN\n",
            "IWT FJXRZ QGDLC UDM\n",
            "HVS EIWQY PFCKB TCL\n",
            "GUR DHVPX OEBJA SBK\n",
            "FTQ CGUOW NDAIZ RAJ\n",
            "ESP BFTNV MCZHY QZI\n",
            "DRO AESMU LBYGX PYH\n",
            "CQN ZDRLT KAXFW OXG\n",
            "BPM YCQKS JZWEV NWF\n",
            "AOL XBPJR IYVDU MVE\n",
            "ZNK WAOIQ HXUCT LUD\n",
            "YMJ VZNHP GWTBS KTC\n",
            "XLI UYMGO FVSAR JSB\n",
            "WKH TXLFN EURZQ IRA\n",
            "VJG SWKEM DTQYP HQZ\n",
            "UIF RVJDL CSPXO GPY\n",
            "THE QUICK BROWN FOX\n",
            "SGD PTHBJ AQNVM ENW\n",
            "RFC OSGAI ZPMUL DMV\n",
            "QEB NRFZH YOLTK CLU\n",
            "PDA MQEYG XNKSJ BKT\n",
            "OCZ LPDXF WMJRI AJS\n",
            "NBY KOCWE VLIQH ZIR\n",
            "MAX JNBVD UKHPG YHQ\n",
            "LZW IMAUC TJGOF XGP\n"
          ]
        }
      ]
    },
    {
      "cell_type": "code",
      "source": [
        "#Encrypt the following plaintext, using the summation of last 2 digits of your ID as the key\n",
        "plaintext = \"I am batman\"\n",
        "#ID = 20301230\n",
        "print(encrypt_shift_cipher(plaintext, 3))"
      ],
      "metadata": {
        "id": "YWqRQMF3455I",
        "colab": {
          "base_uri": "https://localhost:8080/"
        },
        "outputId": "9e72c5b9-f874-4838-bf05-74a108678426"
      },
      "execution_count": 4,
      "outputs": [
        {
          "output_type": "stream",
          "name": "stdout",
          "text": [
            "L dp edwpdq\n"
          ]
        }
      ]
    },
    {
      "cell_type": "markdown",
      "source": [
        "# Substitution Cipher"
      ],
      "metadata": {
        "id": "RqFWriJBVoDO"
      }
    },
    {
      "cell_type": "code",
      "source": [
        "import pandas as pd\n",
        "def frequency_table(text):\n",
        "  table = []\n",
        "  count = 0\n",
        "  for i in text:\n",
        "    if i in 'qwertyuiopasdfghjklzxcvbnm':\n",
        "      count += 1\n",
        "  for i in range(97,123):\n",
        "    table.append(text.count(chr(i))/count)\n",
        "  index = [i[0] for i in sorted(enumerate(table), key=lambda x:x[1])][::-1]\n",
        "  for i in index:\n",
        "    print(chr(97+i)+\":\"+str(table[i]))"
      ],
      "metadata": {
        "id": "ZwImnQeYVtGE"
      },
      "execution_count": 5,
      "outputs": []
    },
    {
      "cell_type": "code",
      "source": [
        "ciphertext = \"xeo iwy djqqod mohzs xeo ezfjrzy, glixjyc l slft, zflyco chzs lgfzii xeo xflyawjh hlydiglqo.\\n l coyxho mfooro fwixhod xeo holkoi zv xeo xlhh zln xfooi, gfolxjyc l izzxejyc iutqezyu zv ylxwfo'i tohzdjoi.\\n li xsjhjcex doigoydod, xeo ixlfi mocly xz otofco, dzxxjyc xeo jydjcz glykli zv xeo yjcex inu.\\n vjfovhjoi dlygod jy xeo toldzs, xeojf mjzhwtjyoigoyx hjcexi vhjgnofjyc hjno xjyu hlyxofyi.\\n jy xeo djixlygo, xeo vljyx ewt zv l djixlyx xfljy gzwhd mo eolfd, l fotjydof zv xeo szfhd mouzyd xeji qolgovwh elkoy.\\nl hzyo zsh ezzxod jy xeo djixlygo, mfolnjyc xeo ijhoygo zv xeo yjcex.\\n xeo igoyx zv vfoiehu mlnod mfold slvxod vfzt l yolfmu gzxxlco, oyxjgjyc lyuzyo vzfxwylxo oyzwce xz glxge l sejvv.\\n l fjkof yolfmu chjixoyod jy xeo tzzyhjcex, jxi slxofi fjqqhjyc coyxhu li jx vhzsod zyslfd.\\n jx sli l tztoyx zv iofoyjxu lyd ixjhhyoii, l qlwio jy xeo ewixho lyd mwixho zv hjvo, seofo zyo gzwhd ijtqhu opjix lyd ilkzf xeo molwxu zv xeo szfhd lfzwyd xeot.\"\n",
        "frequency_table(ciphertext)"
      ],
      "metadata": {
        "id": "2R-LMVH-brn3",
        "colab": {
          "base_uri": "https://localhost:8080/"
        },
        "outputId": "4d4fd57b-a3e6-43ca-aa87-c6040aeb4543"
      },
      "execution_count": null,
      "outputs": [
        {
          "output_type": "stream",
          "name": "stdout",
          "text": [
            "o:0.13474240422721268\n",
            "x:0.0977542932628798\n",
            "y:0.083223249669749\n",
            "l:0.07926023778071334\n",
            "j:0.071334214002642\n",
            "z:0.06472919418758256\n",
            "i:0.05812417437252312\n",
            "e:0.05416116248348745\n",
            "f:0.05019815059445178\n",
            "h:0.0488771466314399\n",
            "d:0.04491413474240423\n",
            "v:0.03038309114927345\n",
            "c:0.03038309114927345\n",
            "g:0.026420079260237782\n",
            "w:0.021136063408190225\n",
            "s:0.019815059445178335\n",
            "t:0.018494055482166448\n",
            "u:0.017173051519154558\n",
            "m:0.017173051519154558\n",
            "q:0.011889035667107\n",
            "n:0.007926023778071334\n",
            "k:0.0066050198150594455\n",
            "r:0.002642007926023778\n",
            "p:0.001321003963011889\n",
            "a:0.001321003963011889\n",
            "b:0.0\n"
          ]
        }
      ]
    },
    {
      "cell_type": "code",
      "source": [
        "ciphertext =  \"xeo iwy djqqod mohzs xeo ezfjrzy, glixjyc l slft, zflyco chzs lgfzii xeo xflyawjh hlydiglqo.\\n l coyxho mfooro fwixhod xeo holkoi zv xeo xlhh zln xfooi, gfolxjyc l izzxejyc iutqezyu zv ylxwfo'i tohzdjoi.\\n li xsjhjcex doigoydod, xeo ixlfi mocly xz otofco, dzxxjyc xeo jydjcz glykli zv xeo yjcex inu.\\n vjfovhjoi dlygod jy xeo toldzs, xeojf mjzhwtjyoigoyx hjcexi vhjgnofjyc hjno xjyu hlyxofyi.\\n jy xeo djixlygo, xeo vljyx ewt zv l djixlyx xfljy gzwhd mo eolfd, l fotjydof zv xeo szfhd mouzyd xeji qolgovwh elkoy.\\nl hzyo zsh ezzxod jy xeo djixlygo, mfolnjyc xeo ijhoygo zv xeo yjcex.\\n xeo igoyx zv vfoiehu mlnod mfold slvxod vfzt l yolfmu gzxxlco, oyxjgjyc lyuzyo vzfxwylxo oyzwce xz glxge l sejvv.\\n l fjkof yolfmu chjixoyod jy xeo tzzyhjcex, jxi slxofi fjqqhjyc coyxhu li jx vhzsod zyslfd.\\n jx sli l tztoyx zv iofoyjxu lyd ixjhhyoii, l qlwio jy xeo ewixho lyd mwixho zv hjvo, seofo zyo gzwhd ijtqhu opjix lyd ilkzf xeo molwxu zv xeo szfhd lfzwyd xeot.\"\n",
        "ciphertext = ciphertext.replace(\"o\",\"E\")\n",
        "ciphertext = ciphertext.replace(\"l\",\"A\")\n",
        "ciphertext = ciphertext.replace(\"x\",\"T\")\n",
        "ciphertext = ciphertext.replace(\"e\",\"H\")\n",
        "ciphertext = ciphertext.replace(\"h\",\"L\")\n",
        "ciphertext = ciphertext.replace(\"z\",\"O\")\n",
        "ciphertext = ciphertext.replace(\"n\",\"N\")\n",
        "ciphertext = ciphertext.replace(\"f\",\"R\")\n",
        "ciphertext = ciphertext.replace(\"j\",\"I\")\n",
        "ciphertext = ciphertext.replace(\"i\",\"S\")\n",
        "ciphertext = ciphertext.replace(\"w\",\"U\")\n",
        "ciphertext = ciphertext.replace(\"y\",\"N\")\n",
        "ciphertext = ciphertext.replace(\"c\",\"G\")\n",
        "ciphertext = ciphertext.replace(\"p\",\"X\")\n",
        "ciphertext = ciphertext.replace(\"q\",\"P\")\n",
        "ciphertext = ciphertext.replace(\"s\",\"W\")\n",
        "ciphertext = ciphertext.replace(\"m\",\"H\")\n",
        "ciphertext = ciphertext.replace(\"d\",\"D\")\n",
        "ciphertext = ciphertext.replace(\"v\",\"F\")\n",
        "ciphertext = ciphertext.replace(\"t\",\"M\")\n",
        "ciphertext = ciphertext.replace(\"u\",\"E\")\n",
        "ciphertext = ciphertext.replace(\"g\",\"C\")\n",
        "\n",
        "print(ciphertext)\n"
      ],
      "metadata": {
        "id": "B2wtNETpfajr",
        "colab": {
          "base_uri": "https://localhost:8080/"
        },
        "outputId": "3089699b-6321-4a0c-8c6b-23c8b86e364e"
      },
      "execution_count": null,
      "outputs": [
        {
          "output_type": "stream",
          "name": "stdout",
          "text": [
            "THE SUN DIPPED HELOW THE HORIrON, CASTING A WARM, ORANGE GLOW ACROSS THE TRANaUIL LANDSCAPE.\n",
            " A GENTLE HREErE RUSTLED THE LEAkES OF THE TALL OAN TREES, CREATING A SOOTHING SEMPHONE OF NATURE'S MELODIES.\n",
            " AS TWILIGHT DESCENDED, THE STARS HEGAN TO EMERGE, DOTTING THE INDIGO CANkAS OF THE NIGHT SNE.\n",
            " FIREFLIES DANCED IN THE MEADOW, THEIR HIOLUMINESCENT LIGHTS FLICNERING LINE TINE LANTERNS.\n",
            " IN THE DISTANCE, THE FAINT HUM OF A DISTANT TRAIN COULD HE HEARD, A REMINDER OF THE WORLD HEEOND THIS PEACEFUL HAkEN.\n",
            "A LONE OWL HOOTED IN THE DISTANCE, HREANING THE SILENCE OF THE NIGHT.\n",
            " THE SCENT OF FRESHLE HANED HREAD WAFTED FROM A NEARHE COTTAGE, ENTICING ANEONE FORTUNATE ENOUGH TO CATCH A WHIFF.\n",
            " A RIkER NEARHE GLISTENED IN THE MOONLIGHT, ITS WATERS RIPPLING GENTLE AS IT FLOWED ONWARD.\n",
            " IT WAS A MOMENT OF SERENITE AND STILLNESS, A PAUSE IN THE HUSTLE AND HUSTLE OF LIFE, WHERE ONE COULD SIMPLE EXIST AND SAkOR THE HEAUTE OF THE WORLD AROUND THEM.\n"
          ]
        }
      ]
    }
  ]
}