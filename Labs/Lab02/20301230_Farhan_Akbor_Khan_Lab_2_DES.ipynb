{
  "nbformat": 4,
  "nbformat_minor": 0,
  "metadata": {
    "colab": {
      "provenance": []
    },
    "kernelspec": {
      "name": "python3",
      "display_name": "Python 3"
    },
    "language_info": {
      "name": "python"
    }
  },
  "cells": [
    {
      "cell_type": "code",
      "source": [
        "!pip install PyCryptodome"
      ],
      "metadata": {
        "colab": {
          "base_uri": "https://localhost:8080/"
        },
        "id": "Mo9IWa4YeIqm",
        "outputId": "5b6086c3-5bc3-447e-ff1e-c9d79505ba3a"
      },
      "execution_count": 1,
      "outputs": [
        {
          "output_type": "stream",
          "name": "stdout",
          "text": [
            "Collecting PyCryptodome\n",
            "  Downloading pycryptodome-3.21.0-cp36-abi3-manylinux_2_17_x86_64.manylinux2014_x86_64.whl.metadata (3.4 kB)\n",
            "Downloading pycryptodome-3.21.0-cp36-abi3-manylinux_2_17_x86_64.manylinux2014_x86_64.whl (2.3 MB)\n",
            "\u001b[?25l   \u001b[90m━━━━━━━━━━━━━━━━━━━━━━━━━━━━━━━━━━━━━━━━\u001b[0m \u001b[32m0.0/2.3 MB\u001b[0m \u001b[31m?\u001b[0m eta \u001b[36m-:--:--\u001b[0m\r\u001b[2K   \u001b[91m━━\u001b[0m\u001b[91m╸\u001b[0m\u001b[90m━━━━━━━━━━━━━━━━━━━━━━━━━━━━━━━━━━━━━\u001b[0m \u001b[32m0.1/2.3 MB\u001b[0m \u001b[31m3.8 MB/s\u001b[0m eta \u001b[36m0:00:01\u001b[0m\r\u001b[2K   \u001b[91m━━━━━━━━━━━━━━━━━\u001b[0m\u001b[91m╸\u001b[0m\u001b[90m━━━━━━━━━━━━━━━━━━━━━━\u001b[0m \u001b[32m1.0/2.3 MB\u001b[0m \u001b[31m13.2 MB/s\u001b[0m eta \u001b[36m0:00:01\u001b[0m\r\u001b[2K   \u001b[91m━━━━━━━━━━━━━━━━━━━━━━━━━━━━━━━━━━━\u001b[0m\u001b[90m╺\u001b[0m\u001b[90m━━━━\u001b[0m \u001b[32m2.0/2.3 MB\u001b[0m \u001b[31m19.8 MB/s\u001b[0m eta \u001b[36m0:00:01\u001b[0m\r\u001b[2K   \u001b[91m━━━━━━━━━━━━━━━━━━━━━━━━━━━━━━━━━━━━━━━\u001b[0m\u001b[91m╸\u001b[0m \u001b[32m2.3/2.3 MB\u001b[0m \u001b[31m18.2 MB/s\u001b[0m eta \u001b[36m0:00:01\u001b[0m\r\u001b[2K   \u001b[90m━━━━━━━━━━━━━━━━━━━━━━━━━━━━━━━━━━━━━━━━\u001b[0m \u001b[32m2.3/2.3 MB\u001b[0m \u001b[31m13.6 MB/s\u001b[0m eta \u001b[36m0:00:00\u001b[0m\n",
            "\u001b[?25hInstalling collected packages: PyCryptodome\n",
            "Successfully installed PyCryptodome-3.21.0\n"
          ]
        }
      ]
    },
    {
      "cell_type": "code",
      "execution_count": 2,
      "metadata": {
        "id": "gtdy5PGTd2Lb"
      },
      "outputs": [],
      "source": [
        "from Crypto.Cipher import DES\n",
        "from Crypto.Random import get_random_bytes"
      ]
    },
    {
      "cell_type": "code",
      "source": [
        "def pad_text(text):\n",
        "    # Ensure the plaintext length is a multiple of 8 bytes (DES block size)\n",
        "    #generate and return the padded_text\n",
        "    if len(text) % 8 == 0:\n",
        "        return text\n",
        "    else:\n",
        "        padding_length = 8 - (len(text) % 8)\n",
        "        padding = bytes([padding_length]) * padding_length\n",
        "        padded_text = text + padding\n",
        "        return padded_text"
      ],
      "metadata": {
        "id": "2YUag_rOe8Ox"
      },
      "execution_count": 58,
      "outputs": []
    },
    {
      "cell_type": "code",
      "source": [
        "def des_encrypt(plaintext, key):\n",
        "    #encrypt DES(Mode:ECB) and return the ciphertext\n",
        "    cipher = DES.new(key, DES.MODE_ECB)\n",
        "    ciphertext = cipher.encrypt(plaintext)\n",
        "    return ciphertext"
      ],
      "metadata": {
        "id": "N7Yr6dX6fFEd"
      },
      "execution_count": 59,
      "outputs": []
    },
    {
      "cell_type": "code",
      "source": [
        "plaintext = b\"Hello! I am Farhan Akbor Khan.\"\n",
        "key = get_random_bytes(8)  # Generate a random 64-bit (8-byte) key\n",
        "print(\"Original plaintext:\", plaintext.decode('utf-8'))\n",
        "print(\"Original key (in bytes):\", key)\n",
        "plaintext = pad_text(plaintext)\n",
        "ciphertext = des_encrypt(plaintext, key)\n",
        "print(\"Encrypted ciphertext (in bytes):\", ciphertext)"
      ],
      "metadata": {
        "colab": {
          "base_uri": "https://localhost:8080/"
        },
        "id": "zdMdYJzofDCi",
        "outputId": "dd9e0093-0434-40da-caa1-b97b438ae34a"
      },
      "execution_count": 60,
      "outputs": [
        {
          "output_type": "stream",
          "name": "stdout",
          "text": [
            "Original plaintext: Hello! I am Farhan Akbor Khan.\n",
            "Original key (in bytes): b'\\x1e\\x00\\xf2\\xc5\\xeb2\\x13\\xb2'\n",
            "Encrypted ciphertext (in bytes): b'N\\xa6\\xaec\\x82z\\r7\\xb3\\x9ex\\xa3b\\xb1\\xd7r\\xc6\\xcb\\xb1\\xee\\x86\\xcf\\xa1w\\xd4\\x88d.\\xb2\\x80M\\xe7'\n"
          ]
        }
      ]
    },
    {
      "cell_type": "code",
      "source": [
        "def unpad_text(padded_text):\n",
        "    # Remove the padding bytes to get the original plaintext\n",
        "    # Done for you\n",
        "    padding_length = padded_text[-1]\n",
        "    if padding_length > 0 and padding_length <= 8:\n",
        "        return padded_text[:-padding_length]\n",
        "    else:\n",
        "        return padded_text"
      ],
      "metadata": {
        "id": "KoXC3lYDfK2_"
      },
      "execution_count": 61,
      "outputs": []
    },
    {
      "cell_type": "code",
      "source": [
        "def des_decrypt(ciphertext, key):\n",
        "  #decrypt DES(Mode:ECB) and return the plaintext\n",
        "  cipher = DES.new(key, DES.MODE_ECB)\n",
        "  plaintext = cipher.decrypt(ciphertext)\n",
        "  return plaintext"
      ],
      "metadata": {
        "id": "u2i13KIUfL21"
      },
      "execution_count": 62,
      "outputs": []
    },
    {
      "cell_type": "code",
      "source": [
        "# Replace these with your ciphertext and key\n",
        "#ciphertext = b'\\xa5\\x8a}\\xae\\xd9\\x03\\x1c\\xf1\\x8c\\x99\\xc5\\xd0\\xe1\\xd8,b\\x01\\xc1\\\\\\x1ci\\xae1\\xe4'\n",
        "#key = b'P\\xae\\xfb\\xb9\\xb3\\x8ae\\xde'\n",
        "\n",
        "ciphertext = b'N\\xa6\\xaec\\x82z\\r7\\xb3\\x9ex\\xa3b\\xb1\\xd7r\\xc6\\xcb\\xb1\\xee\\x86\\xcf\\xa1w\\xd4\\x88d.\\xb2\\x80M\\xe7'\n",
        "key = b'\\x1e\\x00\\xf2\\xc5\\xeb2\\x13\\xb2'\n",
        "\n",
        "decrypted_text = des_decrypt(ciphertext, key)\n",
        "original_text = unpad_text(decrypted_text)\n",
        "\n",
        "print(\"Decrypted text:\", original_text.decode('utf-8'))"
      ],
      "metadata": {
        "colab": {
          "base_uri": "https://localhost:8080/"
        },
        "id": "8IfaHQVvfO4m",
        "outputId": "cc9729b6-d651-4cd1-95d7-5837016d2f89"
      },
      "execution_count": 63,
      "outputs": [
        {
          "output_type": "stream",
          "name": "stdout",
          "text": [
            "Decrypted text: Hello! I am Farhan Akbor Khan.\n"
          ]
        }
      ]
    },
    {
      "cell_type": "code",
      "source": [
        "#Implement double DES"
      ],
      "metadata": {
        "id": "jWwMSldIgfxl"
      },
      "execution_count": null,
      "outputs": []
    }
  ]
}