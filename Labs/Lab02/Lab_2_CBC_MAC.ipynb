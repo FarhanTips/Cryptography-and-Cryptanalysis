{
  "nbformat": 4,
  "nbformat_minor": 0,
  "metadata": {
    "colab": {
      "provenance": []
    },
    "kernelspec": {
      "name": "python3",
      "display_name": "Python 3"
    },
    "language_info": {
      "name": "python"
    }
  },
  "cells": [
    {
      "cell_type": "markdown",
      "source": [
        "# CBC-MAC"
      ],
      "metadata": {
        "id": "cVo6n8BMDg10"
      }
    },
    {
      "cell_type": "code",
      "source": [
        "!pip install cryptography"
      ],
      "metadata": {
        "id": "qCxkMYZkttv2",
        "colab": {
          "base_uri": "https://localhost:8080/"
        },
        "outputId": "ac034672-6f1e-435b-9a17-4025b29bf76c"
      },
      "execution_count": null,
      "outputs": [
        {
          "output_type": "stream",
          "name": "stdout",
          "text": [
            "Looking in indexes: https://pypi.org/simple, https://us-python.pkg.dev/colab-wheels/public/simple/\n",
            "Requirement already satisfied: cryptography in /usr/local/lib/python3.10/dist-packages (40.0.2)\n",
            "Requirement already satisfied: cffi>=1.12 in /usr/local/lib/python3.10/dist-packages (from cryptography) (1.15.1)\n",
            "Requirement already satisfied: pycparser in /usr/local/lib/python3.10/dist-packages (from cffi>=1.12->cryptography) (2.21)\n"
          ]
        }
      ]
    },
    {
      "cell_type": "code",
      "execution_count": null,
      "metadata": {
        "id": "BmNKrVK6p9pp",
        "colab": {
          "base_uri": "https://localhost:8080/"
        },
        "outputId": "f783be34-0aa6-4677-aec9-072003398e51"
      },
      "outputs": [
        {
          "output_type": "stream",
          "name": "stdout",
          "text": [
            "b\"I'd rather be a bird than a fish\"\n",
            "b'\\x93\\x0c\\xccf\\xb7l\\xe9\\xd1\\x93\\x9d\\x93phi\\x80y'\n",
            "Message: I'd rather be a bird than a fish\n",
            "CMAC signature: 5cb0c8144ecc0e0b\n"
          ]
        }
      ],
      "source": [
        "import os\n",
        "import sys\n",
        "import binascii\n",
        "\n",
        "from cryptography.hazmat.primitives import cmac\n",
        "from cryptography.hazmat.primitives.ciphers import algorithms\n",
        "\n",
        "message = \"I'd rather be a bird than a fish\"\n",
        "\n",
        "message=message.encode()\n",
        "print(message)\n",
        "key = os.urandom(16)\n",
        "print(key)\n",
        "c_obj = cmac.CMAC(algorithms.TripleDES(key))\n",
        "\n",
        "c_obj.update(message)\n",
        "\n",
        "signature = c_obj.finalize()\n",
        "\n",
        "print (f\"Message: {message.decode()}\" )\n",
        "\n",
        "print (f\"CMAC signature: {binascii.b2a_hex(signature).decode()}\")"
      ]
    },
    {
      "cell_type": "code",
      "source": [
        "#verify the given information here"
      ],
      "metadata": {
        "id": "s5ms2bc86brM"
      },
      "execution_count": null,
      "outputs": []
    }
  ]
}