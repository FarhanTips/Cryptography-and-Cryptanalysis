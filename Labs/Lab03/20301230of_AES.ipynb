{
  "nbformat": 4,
  "nbformat_minor": 0,
  "metadata": {
    "colab": {
      "provenance": []
    },
    "kernelspec": {
      "name": "python3",
      "display_name": "Python 3"
    },
    "language_info": {
      "name": "python"
    }
  },
  "cells": [
    {
      "cell_type": "code",
      "execution_count": 253,
      "metadata": {
        "colab": {
          "base_uri": "https://localhost:8080/"
        },
        "id": "nOmg2-g_o7Fz",
        "outputId": "656ac884-a658-483f-e861-dffc3c1ab990"
      },
      "outputs": [
        {
          "output_type": "stream",
          "name": "stdout",
          "text": [
            "Requirement already satisfied: pycryptodome in /usr/local/lib/python3.10/dist-packages (3.21.0)\n"
          ]
        }
      ],
      "source": [
        "!pip install pycryptodome"
      ]
    },
    {
      "cell_type": "code",
      "source": [
        "from Crypto.Cipher import AES\n",
        "from Crypto.Util.Padding import pad, unpad\n",
        "from Crypto.Random import get_random_bytes"
      ],
      "metadata": {
        "id": "exxdGtVyok_H"
      },
      "execution_count": 254,
      "outputs": []
    },
    {
      "cell_type": "markdown",
      "source": [
        "# Task 1\n",
        "Complete the encrypt() method\n",
        "\n",
        "Mode:\n",
        "\n",
        "\n",
        "\n",
        "*   1 = ECB\n",
        "*   2 = CBC\n",
        "*   3 = OFB\n",
        "\n",
        "\n"
      ],
      "metadata": {
        "id": "08hDpbu5e4T0"
      }
    },
    {
      "cell_type": "code",
      "source": [
        "def encrypt(pt, key, mode, iv=None):\n",
        "    key = bytes.fromhex(key)\n",
        "    pt = pt.encode()\n",
        "    pt = pad(pt, AES.block_size)\n",
        "\n",
        "    if iv is not None:\n",
        "        iv = bytes.fromhex(iv)\n",
        "\n",
        "\n",
        "    if mode == 1:\n",
        "        cipher = AES.new(key, AES.MODE_ECB)\n",
        "        ciphertext = cipher.encrypt(pt)\n",
        "\n",
        "    elif mode == 2:\n",
        "        cipher = AES.new(key, AES.MODE_CBC, iv)\n",
        "        ciphertext = cipher.encrypt(pt)\n",
        "\n",
        "    elif mode == 3:\n",
        "        cipher = AES.new(key, AES.MODE_OFB, iv)\n",
        "        ciphertext = cipher.encrypt(pt)\n",
        "\n",
        "    return ciphertext.hex()\n"
      ],
      "metadata": {
        "id": "2rp-xHMFhZ8h"
      },
      "execution_count": 255,
      "outputs": []
    },
    {
      "cell_type": "markdown",
      "source": [
        "# Task 2\n",
        "Complete the decrypt method"
      ],
      "metadata": {
        "id": "sCXhN8jSfByx"
      }
    },
    {
      "cell_type": "code",
      "source": [
        "def decrypt(ct, key, mode, iv=None):\n",
        "    # Write your code here\n",
        "\n",
        "    key = bytes.fromhex(key)\n",
        "    ct = bytes.fromhex(ct)\n",
        "\n",
        "\n",
        "    if mode == 1:\n",
        "        cipher = AES.new(key, AES.MODE_ECB)\n",
        "        decrypted_text = cipher.decrypt(ct)\n",
        "\n",
        "    elif mode == 2:\n",
        "        if iv is None:\n",
        "            raise ValueError(\"IV is required for CBC mode\")\n",
        "        iv = bytes.fromhex(iv)\n",
        "        cipher = AES.new(key, AES.MODE_CBC, iv)\n",
        "        decrypted_text = cipher.decrypt(ct)\n",
        "\n",
        "    else:\n",
        "        raise ValueError(\"Invalid mode. Use 1 for ECB, 2 for CBC.\")\n",
        "\n",
        "\n",
        "    try:\n",
        "        decrypted_text = unpad(decrypted_text, AES.block_size)\n",
        "    except ValueError:\n",
        "        print(\"Unpadding failed: Padding is incorrect.\")\n",
        "        return None\n",
        "\n",
        "\n",
        "    return decrypted_text.decode()"
      ],
      "metadata": {
        "id": "O-gtYko-hzCU"
      },
      "execution_count": 256,
      "outputs": []
    },
    {
      "cell_type": "markdown",
      "source": [
        "Key: **0d5b4267c2370ecf67bd9b9bdba7bfe0**\n",
        "\n",
        "\n",
        "IV: **662bc70aab50862d984d2cce641bb1e9**\n",
        "\n",
        "\n",
        "plaintext: **435_15_fun_1f_y0u_kn0w_h0w_17_w0rk5**"
      ],
      "metadata": {
        "id": "BtBssjhzCl2e"
      }
    },
    {
      "cell_type": "code",
      "source": [
        "pt = \"435_15_fun_1f_y0u_kn0w_h0w_17_w0rk5\"\n",
        "key = \"0d5b4267c2370ecf67bd9b9bdba7bfe0\"\n",
        "iv = \"662bc70aab50862d984d2cce641bb1e9\""
      ],
      "metadata": {
        "id": "wVeN6btMmiOn"
      },
      "execution_count": 257,
      "outputs": []
    },
    {
      "cell_type": "code",
      "source": [
        "ct = encrypt(pt,key,1)\n",
        "try:\n",
        "  assert(ct==\"a8eeba8300fe4570882554c0d804959c9c6d5e7c440c5023ab5cff6be12ca8efc72a447f76475ced61462f307372aaf8\")\n",
        "  print(\"[ECB]: Test passed\")\n",
        "except:\n",
        "  print(\"[ECB]: Wrong answer\")\n",
        "\n",
        "ct2 = encrypt(pt,key,2,iv)\n",
        "try:\n",
        "  assert(ct2==\"880853b4e42a86bc1419b2ec8e349515f3484d312f14f301c6567d71b94dc52cc183cfbede586ab023b7e6831b9351ee\")\n",
        "  print(\"[CBC]: Test passed\")\n",
        "except:\n",
        "  print(\"[CBC]: Wrong answer\")"
      ],
      "metadata": {
        "id": "Tznrb8F2DED6",
        "colab": {
          "base_uri": "https://localhost:8080/"
        },
        "outputId": "1d1b2116-7919-4e63-b898-b41cdad97063"
      },
      "execution_count": 258,
      "outputs": [
        {
          "output_type": "stream",
          "name": "stdout",
          "text": [
            "[ECB]: Test passed\n",
            "[CBC]: Test passed\n"
          ]
        }
      ]
    },
    {
      "cell_type": "code",
      "source": [
        "pt = decrypt(ct,key,1)\n",
        "try:\n",
        "  assert(pt==\"435_15_fun_1f_y0u_kn0w_h0w_17_w0rk5\")\n",
        "  print(\"[ECB]: Test passed\")\n",
        "except:\n",
        "  print(\"[ECB]: Wrong answer\")\n",
        "\n",
        "pt2 = decrypt(ct2,key,2,iv)\n",
        "try:\n",
        "  assert(pt2==\"435_15_fun_1f_y0u_kn0w_h0w_17_w0rk5\")\n",
        "  print(\"[CBC]: Test passed\")\n",
        "except:\n",
        "  print(\"[CBC]: Wrong answer\")"
      ],
      "metadata": {
        "id": "6qKi62v9HsCW",
        "colab": {
          "base_uri": "https://localhost:8080/"
        },
        "outputId": "08448b3c-5671-4949-a48b-51fb86e55803"
      },
      "execution_count": 259,
      "outputs": [
        {
          "output_type": "stream",
          "name": "stdout",
          "text": [
            "[ECB]: Test passed\n",
            "[CBC]: Test passed\n"
          ]
        }
      ]
    },
    {
      "cell_type": "markdown",
      "source": [
        "# Task 3\n",
        "\n",
        "Encrypt the downloaded image using ECB and CBC mode and compare"
      ],
      "metadata": {
        "id": "zyprCPEyeyTE"
      }
    },
    {
      "cell_type": "code",
      "source": [
        "# prompt: download image from google drive link\n",
        "\n",
        "from google_drive_downloader import GoogleDriveDownloader as gdd\n",
        "\n",
        "gdd.download_file_from_google_drive(file_id='1HPJ8e48uR54mNgPUj6d41VSpR08AkiIL',\n",
        "                                    dest_path='./original.bmp')"
      ],
      "metadata": {
        "id": "Ys-nWdGrbmpZ"
      },
      "execution_count": 260,
      "outputs": []
    },
    {
      "cell_type": "code",
      "source": [
        "import PIL\n",
        "\n",
        "def view_image(filename):\n",
        "  img = PIL.Image.open(filename)\n",
        "  display(img)"
      ],
      "metadata": {
        "id": "GALX2OEkfUOH"
      },
      "execution_count": 261,
      "outputs": []
    },
    {
      "cell_type": "code",
      "source": [
        "with open(\"original.bmp\", \"rb\") as f:\n",
        "  pt = f.read()\n",
        "\n",
        "view_image(\"original.bmp\")"
      ],
      "metadata": {
        "id": "wem3elFyfd7T",
        "colab": {
          "base_uri": "https://localhost:8080/",
          "height": 151
        },
        "outputId": "b90c4e11-129b-4e3f-cda0-384c8fc48c80"
      },
      "execution_count": 262,
      "outputs": [
        {
          "output_type": "display_data",
          "data": {
            "text/plain": [
              "<PIL.BmpImagePlugin.BmpImageFile image mode=RGB size=460x134>"
            ],
            "image/png": "[encoded data removed]",
            "image/jpeg": "[encoded data removed]"
          },
          "metadata": {}
        }
      ]
    },
    {
      "cell_type": "code",
      "source": [
        "key = b'\\r[Bg\\xc27\\x0e\\xcfg\\xbd\\x9b\\x9b\\xdb\\xa7\\xbf\\xe0'\n",
        "iv = b'\\xb6p\\x08c-\\xa3\\xbc)W\\x82\\x92\\x9az\\x06e\\x85'"
      ],
      "metadata": {
        "id": "T6cJVIsag9yI"
      },
      "execution_count": 263,
      "outputs": []
    },
    {
      "cell_type": "code",
      "source": [
        "pt5 = \"435_15_fun_1f_y0u_kn0w_h0w_17_w0rk5\"\n",
        "ct = encrypt(pt5,key,1)\n",
        "ct = list(ct)\n",
        "ct[:54] = list(pt5)[:54] # First 54 bytes are bmp header ( Needs to be correct for viewing)\n",
        "ct = bytes(ct)\n",
        "with open(\"encrypted_ecb.bmp\", \"wb\") as f:\n",
        "  f.write(ct)\n",
        "\n",
        "view_image(\"encrypted_ecb.bmp\")"
      ],
      "metadata": {
        "id": "A9wEcvPWfqzU",
        "colab": {
          "base_uri": "https://localhost:8080/",
          "height": 332
        },
        "outputId": "adee58f2-62d2-4c1d-b8bd-684147cafd74"
      },
      "execution_count": 266,
      "outputs": [
        {
          "output_type": "error",
          "ename": "TypeError",
          "evalue": "fromhex() argument must be str, not bytes",
          "traceback": [
            "\u001b[0;31m---------------------------------------------------------------------------\u001b[0m",
            "\u001b[0;31mTypeError\u001b[0m                                 Traceback (most recent call last)",
            "\u001b[0;32m<ipython-input-266-4c3c9850e1b6>\u001b[0m in \u001b[0;36m<cell line: 2>\u001b[0;34m()\u001b[0m\n\u001b[1;32m      1\u001b[0m \u001b[0mpt5\u001b[0m \u001b[0;34m=\u001b[0m \u001b[0;34m\"435_15_fun_1f_y0u_kn0w_h0w_17_w0rk5\"\u001b[0m\u001b[0;34m\u001b[0m\u001b[0;34m\u001b[0m\u001b[0m\n\u001b[0;32m----> 2\u001b[0;31m \u001b[0mct\u001b[0m \u001b[0;34m=\u001b[0m \u001b[0mencrypt\u001b[0m\u001b[0;34m(\u001b[0m\u001b[0mpt5\u001b[0m\u001b[0;34m,\u001b[0m\u001b[0mkey\u001b[0m\u001b[0;34m,\u001b[0m\u001b[0;36m1\u001b[0m\u001b[0;34m)\u001b[0m\u001b[0;34m\u001b[0m\u001b[0;34m\u001b[0m\u001b[0m\n\u001b[0m\u001b[1;32m      3\u001b[0m \u001b[0mct\u001b[0m \u001b[0;34m=\u001b[0m \u001b[0mlist\u001b[0m\u001b[0;34m(\u001b[0m\u001b[0mct\u001b[0m\u001b[0;34m)\u001b[0m\u001b[0;34m\u001b[0m\u001b[0;34m\u001b[0m\u001b[0m\n\u001b[1;32m      4\u001b[0m \u001b[0mct\u001b[0m\u001b[0;34m[\u001b[0m\u001b[0;34m:\u001b[0m\u001b[0;36m54\u001b[0m\u001b[0;34m]\u001b[0m \u001b[0;34m=\u001b[0m \u001b[0mlist\u001b[0m\u001b[0;34m(\u001b[0m\u001b[0mpt5\u001b[0m\u001b[0;34m)\u001b[0m\u001b[0;34m[\u001b[0m\u001b[0;34m:\u001b[0m\u001b[0;36m54\u001b[0m\u001b[0;34m]\u001b[0m \u001b[0;31m# First 54 bytes are bmp header ( Needs to be correct for viewing)\u001b[0m\u001b[0;34m\u001b[0m\u001b[0;34m\u001b[0m\u001b[0m\n\u001b[1;32m      5\u001b[0m \u001b[0mct\u001b[0m \u001b[0;34m=\u001b[0m \u001b[0mbytes\u001b[0m\u001b[0;34m(\u001b[0m\u001b[0mct\u001b[0m\u001b[0;34m)\u001b[0m\u001b[0;34m\u001b[0m\u001b[0;34m\u001b[0m\u001b[0m\n",
            "\u001b[0;32m<ipython-input-255-659f110f433d>\u001b[0m in \u001b[0;36mencrypt\u001b[0;34m(pt, key, mode, iv)\u001b[0m\n\u001b[1;32m      1\u001b[0m \u001b[0;32mdef\u001b[0m \u001b[0mencrypt\u001b[0m\u001b[0;34m(\u001b[0m\u001b[0mpt\u001b[0m\u001b[0;34m,\u001b[0m \u001b[0mkey\u001b[0m\u001b[0;34m,\u001b[0m \u001b[0mmode\u001b[0m\u001b[0;34m,\u001b[0m \u001b[0miv\u001b[0m\u001b[0;34m=\u001b[0m\u001b[0;32mNone\u001b[0m\u001b[0;34m)\u001b[0m\u001b[0;34m:\u001b[0m\u001b[0;34m\u001b[0m\u001b[0;34m\u001b[0m\u001b[0m\n\u001b[0;32m----> 2\u001b[0;31m     \u001b[0mkey\u001b[0m \u001b[0;34m=\u001b[0m \u001b[0mbytes\u001b[0m\u001b[0;34m.\u001b[0m\u001b[0mfromhex\u001b[0m\u001b[0;34m(\u001b[0m\u001b[0mkey\u001b[0m\u001b[0;34m)\u001b[0m\u001b[0;34m\u001b[0m\u001b[0;34m\u001b[0m\u001b[0m\n\u001b[0m\u001b[1;32m      3\u001b[0m     \u001b[0mpt\u001b[0m \u001b[0;34m=\u001b[0m \u001b[0mpt\u001b[0m\u001b[0;34m.\u001b[0m\u001b[0mencode\u001b[0m\u001b[0;34m(\u001b[0m\u001b[0;34m)\u001b[0m\u001b[0;34m\u001b[0m\u001b[0;34m\u001b[0m\u001b[0m\n\u001b[1;32m      4\u001b[0m     \u001b[0mpt\u001b[0m \u001b[0;34m=\u001b[0m \u001b[0mpad\u001b[0m\u001b[0;34m(\u001b[0m\u001b[0mpt\u001b[0m\u001b[0;34m,\u001b[0m \u001b[0mAES\u001b[0m\u001b[0;34m.\u001b[0m\u001b[0mblock_size\u001b[0m\u001b[0;34m)\u001b[0m\u001b[0;34m\u001b[0m\u001b[0;34m\u001b[0m\u001b[0m\n\u001b[1;32m      5\u001b[0m \u001b[0;34m\u001b[0m\u001b[0m\n",
            "\u001b[0;31mTypeError\u001b[0m: fromhex() argument must be str, not bytes"
          ]
        }
      ]
    },
    {
      "cell_type": "code",
      "source": [
        "ct = encrypt(pt,key,1)\n",
        "ct = list(ct)\n",
        "ct[:54] = list(pt)[:54]\n",
        "ct = bytes(ct)\n",
        "with open(\"encrypted_cbc.bmp\", \"wb\") as f:\n",
        "  f.write(ct)\n",
        "\n",
        "view_image(\"encrypted_cbc.bmp\")"
      ],
      "metadata": {
        "id": "WLbYGgNjdLP7"
      },
      "execution_count": null,
      "outputs": []
    },
    {
      "cell_type": "markdown",
      "source": [
        "# Task 4\n",
        "\n",
        "Compare decrypted texts of different encryption modes when encrypted data is corrupted"
      ],
      "metadata": {
        "id": "o7oLRKKnhexW"
      }
    },
    {
      "cell_type": "code",
      "source": [
        "pt = \"CSE447CSE447CSE447CSE447CSE447CSE447CSE447CSE447CSE447CSE447CSE447CSE447\"\n",
        "key = b'\\xb4\\xe3\\x01\\xb7(\\x93\\x98*\\x8b\\xf8\\xe8D\\x80\\xa6[\\x85'\n",
        "iv = b'\\xb2\\xeb~\\xb3|d]\\xa6B\\x7f\\x18\\x9b\\xac\\xf2\\xe0\\x14'"
      ],
      "metadata": {
        "id": "rT9BfvaAjHMm"
      },
      "execution_count": null,
      "outputs": []
    },
    {
      "cell_type": "code",
      "source": [
        "# Encrypt using ECB\n",
        "ct = encrypt(pt,key,1)\n",
        "ct = list(ct)\n",
        "ct[29] = ct[29] ^ 0x01\n",
        "ct = bytes(ct)\n",
        "with open(\"enc_cbc\", \"wb\") as f:\n",
        "  f.write(ct)\n",
        "\n",
        "# decrypt using ECB\n",
        "pt = decrypt(ct,key,1)\n",
        "print(pt)"
      ],
      "metadata": {
        "id": "7SOz3-ateUTr"
      },
      "execution_count": null,
      "outputs": []
    },
    {
      "cell_type": "code",
      "source": [
        "# Encrypt using CBC\n",
        "ct = encrypt(pt,key,2,iv)\n",
        "ct = list(ct)\n",
        "ct[29] = ct[29] ^ 0x01\n",
        "ct = bytes(ct)\n",
        "with open(\"enc_cbc\", \"wb\") as f:\n",
        "  f.write(ct)\n",
        "\n",
        "# decrypt using CBC\n",
        "pt = decrypt(ct,key,2,iv)\n",
        "print(pt)"
      ],
      "metadata": {
        "id": "oyDALYxKkisA"
      },
      "execution_count": null,
      "outputs": []
    },
    {
      "cell_type": "code",
      "source": [
        "# Encrypt using OFB\n",
        "ct = encrypt(pt,key,3,iv)\n",
        "ct = list(ct)\n",
        "ct[29] = ct[29] ^ 0x01\n",
        "ct = bytes(ct)\n",
        "with open(\"enc_cbc\", \"wb\") as f:\n",
        "  f.write(ct)\n",
        "\n",
        "# decrypt using OFB\n",
        "pt = decrypt(ct,key,3,iv)\n",
        "print(pt)"
      ],
      "metadata": {
        "id": "dgwxc78Dko3e"
      },
      "execution_count": null,
      "outputs": []
    }
  ]
}