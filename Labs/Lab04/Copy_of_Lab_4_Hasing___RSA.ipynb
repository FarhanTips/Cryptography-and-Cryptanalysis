{
  "nbformat": 4,
  "nbformat_minor": 0,
  "metadata": {
    "colab": {
      "provenance": []
    },
    "kernelspec": {
      "name": "python3",
      "display_name": "Python 3"
    },
    "language_info": {
      "name": "python"
    }
  },
  "cells": [
    {
      "cell_type": "markdown",
      "source": [
        "# Hashing"
      ],
      "metadata": {
        "id": "JGfliRpGPNM8"
      }
    },
    {
      "cell_type": "code",
      "execution_count": 14,
      "metadata": {
        "colab": {
          "base_uri": "https://localhost:8080/"
        },
        "id": "YrV9WshMpiyT",
        "outputId": "328a376f-aee3-4cc2-9fa7-399a47650092"
      },
      "outputs": [
        {
          "output_type": "stream",
          "name": "stdout",
          "text": [
            "64ef07ce3e4b420c334227eecb3b3f4c\n",
            "583e8b51381c34bae52f6bd990dd22640123c0f631d5f6bd6cb301beafc2d2e3\n",
            "1dbb2224e5108b80246acacd67afa3304c023c467a4a5b4d3c3aaf97508ab11208b5635a7d759a7cacac4e688141dedb953030f364ceff54d9b7f34813e2ca20\n",
            "b804ec5a0d83d19d8db908572f51196505d09f98\n"
          ]
        }
      ],
      "source": [
        "import hashlib\n",
        "\n",
        "md5 = hashlib.md5(b'Cryptography')\n",
        "sha256 = hashlib.sha256(b'Farhan')\n",
        "sha512 = hashlib.sha512(b'Cryptography')\n",
        "sha1 = hashlib.sha1(b'Cryptography')\n",
        "\n",
        "print(md5.hexdigest())\n",
        "print(sha256.hexdigest())\n",
        "print(sha512.hexdigest())\n",
        "print(sha1.hexdigest())"
      ]
    },
    {
      "cell_type": "markdown",
      "source": [
        "# Create MD5 Hash of a file"
      ],
      "metadata": {
        "id": "RLfgCsAGFFh9"
      }
    },
    {
      "cell_type": "code",
      "source": [
        "print(hashlib.md5(\"passlist.txt\".encode('UTF-8')).hexdigest())"
      ],
      "metadata": {
        "colab": {
          "base_uri": "https://localhost:8080/"
        },
        "id": "sjes1PbMDmVh",
        "outputId": "2b7de70a-7a29-4ab5-8b08-a84117a86aee"
      },
      "execution_count": 2,
      "outputs": [
        {
          "output_type": "stream",
          "name": "stdout",
          "text": [
            "aaa96b80151e59ec5f389c55be30443a\n"
          ]
        }
      ]
    },
    {
      "cell_type": "code",
      "source": [
        "file_name = '/content/passlist.txt'\n",
        "\n",
        "with open(file_name) as f:\n",
        "    data = f.read()\n",
        "    md5hash = hashlib.md5(data.encode('UTF-8')).hexdigest()\n",
        "print(md5hash)"
      ],
      "metadata": {
        "colab": {
          "base_uri": "https://localhost:8080/"
        },
        "id": "X85RHo8HFMu4",
        "outputId": "a1b02057-706f-44c9-94d3-e1740048365f"
      },
      "execution_count": 5,
      "outputs": [
        {
          "output_type": "stream",
          "name": "stdout",
          "text": [
            "abf0076950fb6d72ae175f91581c3373\n"
          ]
        }
      ]
    },
    {
      "cell_type": "markdown",
      "source": [
        "# Task 1"
      ],
      "metadata": {
        "id": "YGfX02Z6JghK"
      }
    },
    {
      "cell_type": "code",
      "source": [
        "class Admin:\n",
        "\n",
        "  def __init__(self):\n",
        "    self.username = 'admin'\n",
        "    self.password = '583e8b51381c34bae52f6bd990dd22640123c0f631d5f6bd6cb301beafc2d2e3'\n",
        "\n",
        "  def login(self,username,password):\n",
        "    if username == self.username and password == self.password:\n",
        "      return \"Login successful\"\n",
        "    else:\n",
        "      return \"Wrong password. Please try again\""
      ],
      "metadata": {
        "id": "QHlz-TqwC-5d"
      },
      "execution_count": 20,
      "outputs": []
    },
    {
      "cell_type": "code",
      "source": [
        "user = Admin()\n",
        "user.login(\"admin\",\"583e8b51381c34bae52f6bd990dd22640123c0f631d5f6bd6cb301beafc2d2e3\")"
      ],
      "metadata": {
        "colab": {
          "base_uri": "https://localhost:8080/",
          "height": 35
        },
        "id": "2v0RlwdgvSDV",
        "outputId": "6dd865cb-975a-4936-8569-c3e390442223"
      },
      "execution_count": 21,
      "outputs": [
        {
          "output_type": "execute_result",
          "data": {
            "text/plain": [
              "'Login successful'"
            ],
            "application/vnd.google.colaboratory.intrinsic+json": {
              "type": "string"
            }
          },
          "metadata": {},
          "execution_count": 21
        }
      ]
    },
    {
      "cell_type": "markdown",
      "source": [
        "Your task is to find the plaintext password using dictionary attack.\n",
        "Download password list: https://drive.google.com/file/d/1tqoWvRJu1h1uOfsxXiJ6G_ccY6DdsV_9/view?usp=share_link"
      ],
      "metadata": {
        "id": "yAtkOtlwEfdE"
      }
    },
    {
      "cell_type": "code",
      "source": [
        "!pip install gdown"
      ],
      "metadata": {
        "colab": {
          "base_uri": "https://localhost:8080/"
        },
        "id": "tZUSbigvc1MC",
        "outputId": "78ee936c-fd35-4fd7-bc3c-448092621a7b"
      },
      "execution_count": 8,
      "outputs": [
        {
          "output_type": "stream",
          "name": "stdout",
          "text": [
            "Requirement already satisfied: gdown in /usr/local/lib/python3.10/dist-packages (5.2.0)\n",
            "Requirement already satisfied: beautifulsoup4 in /usr/local/lib/python3.10/dist-packages (from gdown) (4.12.3)\n",
            "Requirement already satisfied: filelock in /usr/local/lib/python3.10/dist-packages (from gdown) (3.16.1)\n",
            "Requirement already satisfied: requests[socks] in /usr/local/lib/python3.10/dist-packages (from gdown) (2.32.3)\n",
            "Requirement already satisfied: tqdm in /usr/local/lib/python3.10/dist-packages (from gdown) (4.66.6)\n",
            "Requirement already satisfied: soupsieve>1.2 in /usr/local/lib/python3.10/dist-packages (from beautifulsoup4->gdown) (2.6)\n",
            "Requirement already satisfied: charset-normalizer<4,>=2 in /usr/local/lib/python3.10/dist-packages (from requests[socks]->gdown) (3.4.0)\n",
            "Requirement already satisfied: idna<4,>=2.5 in /usr/local/lib/python3.10/dist-packages (from requests[socks]->gdown) (3.10)\n",
            "Requirement already satisfied: urllib3<3,>=1.21.1 in /usr/local/lib/python3.10/dist-packages (from requests[socks]->gdown) (2.2.3)\n",
            "Requirement already satisfied: certifi>=2017.4.17 in /usr/local/lib/python3.10/dist-packages (from requests[socks]->gdown) (2024.8.30)\n",
            "Requirement already satisfied: PySocks!=1.5.7,>=1.5.6 in /usr/local/lib/python3.10/dist-packages (from requests[socks]->gdown) (1.7.1)\n"
          ]
        }
      ]
    },
    {
      "cell_type": "code",
      "source": [
        "!gdown --fuzzy https://drive.google.com/file/d/1tqoWvRJu1h1uOfsxXiJ6G_ccY6DdsV_9/view?usp=share_link"
      ],
      "metadata": {
        "colab": {
          "base_uri": "https://localhost:8080/"
        },
        "id": "Bgkkoku8c9oK",
        "outputId": "88cf5ef5-21f3-4328-adf2-1931ffba9a94"
      },
      "execution_count": 9,
      "outputs": [
        {
          "output_type": "stream",
          "name": "stdout",
          "text": [
            "Downloading...\n",
            "From: https://drive.google.com/uc?id=1tqoWvRJu1h1uOfsxXiJ6G_ccY6DdsV_9\n",
            "To: /content/passlist.txt\n",
            "\r  0% 0.00/86.5k [00:00<?, ?B/s]\r100% 86.5k/86.5k [00:00<00:00, 56.9MB/s]\n"
          ]
        }
      ]
    },
    {
      "cell_type": "code",
      "source": [
        "file_name = '/content/passlist.txt'\n",
        "with open(file_name) as file:\n",
        "  for i in file:\n",
        "    password = i.strip()\n",
        "    hashed_password = hashlib.sha256(password.encode('UTF-8')).hexdigest()\n",
        "    if user.login(\"admin\",hashed_password)=='Login successful':\n",
        "      print(\"Password:\",password)"
      ],
      "metadata": {
        "id": "-tQDprrcPUKa",
        "collapsed": true
      },
      "execution_count": 22,
      "outputs": []
    },
    {
      "cell_type": "code",
      "source": [],
      "metadata": {
        "id": "w3lzEKCads-X"
      },
      "execution_count": null,
      "outputs": []
    }
  ]
}