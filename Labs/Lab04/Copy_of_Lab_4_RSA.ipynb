{
  "cells": [
    {
      "cell_type": "markdown",
      "metadata": {
        "id": "SN8H1wkXPXZ9"
      },
      "source": [
        "# RSA"
      ]
    },
    {
      "cell_type": "code",
      "execution_count": null,
      "metadata": {
        "colab": {
          "base_uri": "https://localhost:8080/"
        },
        "id": "cdtAO8nJT2kf",
        "outputId": "184d5a2d-4bcd-470c-f1e6-03f33de6eb09"
      },
      "outputs": [
        {
          "output_type": "stream",
          "name": "stdout",
          "text": [
            "91694925243764\n"
          ]
        }
      ],
      "source": [
        "m = int(\"Secret\".encode(\"utf-8\").hex(),16)\n",
        "print(m)"
      ]
    },
    {
      "cell_type": "code",
      "source": [
        "#generate large prime(128 bits) p and q\n",
        "import sympy\n",
        "import random\n",
        "\n",
        "# Define the bit size for 128-bit prime numbers\n",
        "bit_size = 128\n",
        "\n",
        "# Generate a random 128-bit number\n",
        "random_number = random.getrandbits(bit_size)\n",
        "\n",
        "# Find the next prime greater than or equal to the random number\n",
        "p = sympy.nextprime(random_number)\n",
        "q = sympy.nextprime(p + 1)\n",
        "\n",
        "print(f\"Prime p: {p}\")\n",
        "print(f\"Prime q: {q}\")"
      ],
      "metadata": {
        "id": "u1fe5OEdFGGC",
        "colab": {
          "base_uri": "https://localhost:8080/"
        },
        "outputId": "6da65ee1-db5d-4378-b49e-915b14fbbc7c"
      },
      "execution_count": null,
      "outputs": [
        {
          "output_type": "stream",
          "name": "stdout",
          "text": [
            "Prime p: 220932921632826938328869610384605314639\n",
            "Prime q: 220932921632826938328869610384605314667\n"
          ]
        }
      ]
    },
    {
      "cell_type": "code",
      "execution_count": null,
      "metadata": {
        "colab": {
          "base_uri": "https://localhost:8080/"
        },
        "id": "Flep_Z78Pak0",
        "outputId": "447f3821-413e-4987-99e9-158645fda56f"
      },
      "outputs": [
        {
          "output_type": "stream",
          "name": "stdout",
          "text": [
            "Prime p: 220932921632826938328869610384605314639\n",
            "Prime q: 220932921632826938328869610384605314667\n",
            "Public key (e, n): (11, 48811355861216849345437977175496512386863570681291144843640038719333136510213)\n",
            "Private key d: 8874791974766699880988723122817547706622128152368271084905872636102531978347\n",
            "Ciphertext c: 42271191366233846969787720251794445955570198492416473862807893115711363973920\n"
          ]
        }
      ],
      "source": [
        "#Perform encryption here and generate ciphertext c and private key d\n",
        "e = 11\n",
        "n = p * q\n",
        "phi_n = (p - 1) * (q - 1)\n",
        "\n",
        "d= pow(e, -1, phi_n)       # d = e^-1 % phi_n\n",
        "c = pow(m, e, n)           # c = m^e % n\n",
        "\n",
        "print(f\"Prime p: {p}\")\n",
        "print(f\"Prime q: {q}\")\n",
        "print(f\"Public key (e, n): ({e}, {n})\")\n",
        "print(f\"Private key d: {d}\")\n",
        "print(f\"Ciphertext c: {c}\")"
      ]
    },
    {
      "cell_type": "code",
      "execution_count": null,
      "metadata": {
        "id": "CUApcT0PZ4es",
        "colab": {
          "base_uri": "https://localhost:8080/"
        },
        "outputId": "6aee8d0c-7b78-431e-b0db-a3f5faeb340d"
      },
      "outputs": [
        {
          "output_type": "stream",
          "name": "stdout",
          "text": [
            "Decrypted message: 91694925243764\n"
          ]
        }
      ],
      "source": [
        "#perform decryption here\n",
        "# Decrypting (just for demonstration)\n",
        "decrypted_message = pow(c, d, n)\n",
        "print(f\"Decrypted message: {decrypted_message}\")"
      ]
    },
    {
      "cell_type": "code",
      "source": [
        "m = 91694925243764\n",
        "print(bytes.fromhex(hex(m)[2:]).decode('utf-8') )"
      ],
      "metadata": {
        "colab": {
          "base_uri": "https://localhost:8080/"
        },
        "id": "sHDbhVSGFN6K",
        "outputId": "5e2a0de7-f40a-48d7-b768-f85a7ab309d6"
      },
      "execution_count": null,
      "outputs": [
        {
          "output_type": "stream",
          "name": "stdout",
          "text": [
            "Secret\n"
          ]
        }
      ]
    }
  ],
  "metadata": {
    "colab": {
      "provenance": []
    },
    "kernelspec": {
      "display_name": "Python 3",
      "name": "python3"
    },
    "language_info": {
      "name": "python"
    }
  },
  "nbformat": 4,
  "nbformat_minor": 0
}